{
 "cells": [
  {
   "cell_type": "code",
   "execution_count": 1,
   "id": "17b313bd-d633-472d-ad04-449413201302",
   "metadata": {
    "tags": []
   },
   "outputs": [
    {
     "name": "stdout",
     "output_type": "stream",
     "text": [
      "Requirement already satisfied: ipython-sql in /opt/conda/lib/python3.10/site-packages (0.5.0)\n",
      "Requirement already satisfied: ipython in /opt/conda/lib/python3.10/site-packages (from ipython-sql) (8.11.0)\n",
      "Requirement already satisfied: ipython-genutils in /opt/conda/lib/python3.10/site-packages (from ipython-sql) (0.2.0)\n",
      "Requirement already satisfied: six in /opt/conda/lib/python3.10/site-packages (from ipython-sql) (1.16.0)\n",
      "Requirement already satisfied: sqlparse in /opt/conda/lib/python3.10/site-packages (from ipython-sql) (0.4.4)\n",
      "Requirement already satisfied: prettytable in /opt/conda/lib/python3.10/site-packages (from ipython-sql) (3.7.0)\n",
      "Requirement already satisfied: sqlalchemy>=2.0 in /opt/conda/lib/python3.10/site-packages (from ipython-sql) (2.0.7)\n",
      "Requirement already satisfied: greenlet!=0.4.17 in /opt/conda/lib/python3.10/site-packages (from sqlalchemy>=2.0->ipython-sql) (2.0.2)\n",
      "Requirement already satisfied: typing-extensions>=4.2.0 in /opt/conda/lib/python3.10/site-packages (from sqlalchemy>=2.0->ipython-sql) (4.5.0)\n",
      "Requirement already satisfied: backcall in /opt/conda/lib/python3.10/site-packages (from ipython->ipython-sql) (0.2.0)\n",
      "Requirement already satisfied: jedi>=0.16 in /opt/conda/lib/python3.10/site-packages (from ipython->ipython-sql) (0.18.2)\n",
      "Requirement already satisfied: stack-data in /opt/conda/lib/python3.10/site-packages (from ipython->ipython-sql) (0.6.2)\n",
      "Requirement already satisfied: decorator in /opt/conda/lib/python3.10/site-packages (from ipython->ipython-sql) (5.1.1)\n",
      "Requirement already satisfied: pygments>=2.4.0 in /opt/conda/lib/python3.10/site-packages (from ipython->ipython-sql) (2.14.0)\n",
      "Requirement already satisfied: pickleshare in /opt/conda/lib/python3.10/site-packages (from ipython->ipython-sql) (0.7.5)\n",
      "Requirement already satisfied: prompt-toolkit!=3.0.37,<3.1.0,>=3.0.30 in /opt/conda/lib/python3.10/site-packages (from ipython->ipython-sql) (3.0.38)\n",
      "Requirement already satisfied: traitlets>=5 in /opt/conda/lib/python3.10/site-packages (from ipython->ipython-sql) (5.9.0)\n",
      "Requirement already satisfied: pexpect>4.3 in /opt/conda/lib/python3.10/site-packages (from ipython->ipython-sql) (4.8.0)\n",
      "Requirement already satisfied: matplotlib-inline in /opt/conda/lib/python3.10/site-packages (from ipython->ipython-sql) (0.1.6)\n",
      "Requirement already satisfied: wcwidth in /opt/conda/lib/python3.10/site-packages (from prettytable->ipython-sql) (0.2.6)\n",
      "Requirement already satisfied: parso<0.9.0,>=0.8.0 in /opt/conda/lib/python3.10/site-packages (from jedi>=0.16->ipython->ipython-sql) (0.8.3)\n",
      "Requirement already satisfied: ptyprocess>=0.5 in /opt/conda/lib/python3.10/site-packages (from pexpect>4.3->ipython->ipython-sql) (0.7.0)\n",
      "Requirement already satisfied: asttokens>=2.1.0 in /opt/conda/lib/python3.10/site-packages (from stack-data->ipython->ipython-sql) (2.2.1)\n",
      "Requirement already satisfied: pure-eval in /opt/conda/lib/python3.10/site-packages (from stack-data->ipython->ipython-sql) (0.2.2)\n",
      "Requirement already satisfied: executing>=1.2.0 in /opt/conda/lib/python3.10/site-packages (from stack-data->ipython->ipython-sql) (1.2.0)\n",
      "POSTGRESQL_USER=reader\n",
      "POSTGRESQL_PASSWORD=Miba2021\n"
     ]
    }
   ],
   "source": [
    "!pip install ipython-sql\n",
    "\n",
    "%load_ext sql\n",
    "!env | grep POST\n",
    "import os\n",
    "USER = os.environ['POSTGRESQL_USER']\n",
    "PASSWORD = os.environ['POSTGRESQL_PASSWORD']\n",
    "POSTGRESQL_HOST = '10.129.0.25'\n",
    "DBASE_NAME = 'demo'\n",
    "\n",
    "CONNECT_DATA = 'postgresql://{}:{}@{}/{}'.format(\n",
    "    USER,\n",
    "    PASSWORD,\n",
    "    POSTGRESQL_HOST,\n",
    "    DBASE_NAME\n",
    ")\n"
   ]
  },
  {
   "cell_type": "code",
   "execution_count": 3,
   "id": "322fb6eb-1144-48cd-9edc-92c11a27611a",
   "metadata": {},
   "outputs": [
    {
     "name": "stdout",
     "output_type": "stream",
     "text": [
      "3 rows affected.\n"
     ]
    },
    {
     "data": {
      "text/html": [
       "<table>\n",
       "    <thead>\n",
       "        <tr>\n",
       "            <th>fare_conditions</th>\n",
       "        </tr>\n",
       "    </thead>\n",
       "    <tbody>\n",
       "        <tr>\n",
       "            <td>Business</td>\n",
       "        </tr>\n",
       "        <tr>\n",
       "            <td>Comfort</td>\n",
       "        </tr>\n",
       "        <tr>\n",
       "            <td>Economy</td>\n",
       "        </tr>\n",
       "    </tbody>\n",
       "</table>"
      ],
      "text/plain": [
       "[('Business',), ('Comfort',), ('Economy',)]"
      ]
     },
     "execution_count": 3,
     "metadata": {},
     "output_type": "execute_result"
    }
   ],
   "source": [
    "%%sql $CONNECT_DATA\n",
    "SELECT DISTINCT fare_conditions\n",
    "FROM Ticket_flights\n",
    "WHERE flight_id IN (\n",
    "    SELECT DISTINCT flight_id\n",
    "    FROM Flights\n",
    "    WHERE (departure_airport = 'AER' AND arrival_airport = 'SVO')\n",
    ");"
   ]
  },
  {
   "cell_type": "code",
   "execution_count": 4,
   "id": "2f1a8207-6756-449e-80de-1155149f4720",
   "metadata": {},
   "outputs": [
    {
     "name": "stdout",
     "output_type": "stream",
     "text": [
      "0 rows affected.\n"
     ]
    },
    {
     "data": {
      "text/html": [
       "<table>\n",
       "    <thead>\n",
       "        <tr>\n",
       "            <th>model</th>\n",
       "        </tr>\n",
       "    </thead>\n",
       "    <tbody>\n",
       "    </tbody>\n",
       "</table>"
      ],
      "text/plain": [
       "[]"
      ]
     },
     "execution_count": 4,
     "metadata": {},
     "output_type": "execute_result"
    }
   ],
   "source": [
    "%%sql $CONNECT_DATA\n",
    "SELECT model\n",
    "FROM Aircrafts\n",
    "WHERE aircraft_code IN (  \n",
    "    SELECT aircraft_code  \n",
    "    FROM Flights\n",
    "    WHERE (arrival_airport = 'ABA' AND arrival_airport = 'YKS')\n",
    ");"
   ]
  },
  {
   "cell_type": "code",
   "execution_count": 5,
   "id": "f954a444-7990-45be-a838-315939d9adda",
   "metadata": {},
   "outputs": [
    {
     "name": "stdout",
     "output_type": "stream",
     "text": [
      "5 rows affected.\n"
     ]
    },
    {
     "data": {
      "text/html": [
       "<table>\n",
       "    <thead>\n",
       "        <tr>\n",
       "            <th>model</th>\n",
       "        </tr>\n",
       "    </thead>\n",
       "    <tbody>\n",
       "        <tr>\n",
       "            <td>Sukhoi Superjet-100</td>\n",
       "        </tr>\n",
       "        <tr>\n",
       "            <td>Airbus A319-100</td>\n",
       "        </tr>\n",
       "        <tr>\n",
       "            <td>Boeing 737-300</td>\n",
       "        </tr>\n",
       "        <tr>\n",
       "            <td>Cessna 208 Caravan</td>\n",
       "        </tr>\n",
       "        <tr>\n",
       "            <td>Bombardier CRJ-200</td>\n",
       "        </tr>\n",
       "    </tbody>\n",
       "</table>"
      ],
      "text/plain": [
       "[('Sukhoi Superjet-100',),\n",
       " ('Airbus A319-100',),\n",
       " ('Boeing 737-300',),\n",
       " ('Cessna 208 Caravan',),\n",
       " ('Bombardier CRJ-200',)]"
      ]
     },
     "execution_count": 5,
     "metadata": {},
     "output_type": "execute_result"
    }
   ],
   "source": [
    "%%sql $CONNECT_DATA\n",
    "SELECT model\n",
    "FROM Aircrafts\n",
    "WHERE aircraft_code IN (  \n",
    "    SELECT aircraft_code  \n",
    "    FROM Flights\n",
    "    WHERE (arrival_airport = 'ABA' OR arrival_airport = 'YKS')\n",
    ");"
   ]
  },
  {
   "cell_type": "code",
   "execution_count": 6,
   "id": "1e1fa5b0-5c0f-49b9-a90c-c08a6608a67f",
   "metadata": {},
   "outputs": [
    {
     "name": "stdout",
     "output_type": "stream",
     "text": [
      "8 rows affected.\n"
     ]
    },
    {
     "data": {
      "text/html": [
       "<table>\n",
       "    <thead>\n",
       "        <tr>\n",
       "            <th>aircraft_code</th>\n",
       "            <th>model</th>\n",
       "        </tr>\n",
       "    </thead>\n",
       "    <tbody>\n",
       "        <tr>\n",
       "            <td>CN1</td>\n",
       "            <td>Cessna 208 Caravan</td>\n",
       "        </tr>\n",
       "        <tr>\n",
       "            <td>CR2</td>\n",
       "            <td>Bombardier CRJ-200</td>\n",
       "        </tr>\n",
       "        <tr>\n",
       "            <td>773</td>\n",
       "            <td>Boeing 777-300</td>\n",
       "        </tr>\n",
       "        <tr>\n",
       "            <td>763</td>\n",
       "            <td>Boeing 767-300</td>\n",
       "        </tr>\n",
       "        <tr>\n",
       "            <td>319</td>\n",
       "            <td>Airbus A319-100</td>\n",
       "        </tr>\n",
       "        <tr>\n",
       "            <td>733</td>\n",
       "            <td>Boeing 737-300</td>\n",
       "        </tr>\n",
       "        <tr>\n",
       "            <td>SU9</td>\n",
       "            <td>Sukhoi Superjet-100</td>\n",
       "        </tr>\n",
       "        <tr>\n",
       "            <td>321</td>\n",
       "            <td>Airbus A321-200</td>\n",
       "        </tr>\n",
       "    </tbody>\n",
       "</table>"
      ],
      "text/plain": [
       "[('CN1', 'Cessna 208 Caravan'),\n",
       " ('CR2', 'Bombardier CRJ-200'),\n",
       " ('773', 'Boeing 777-300'),\n",
       " ('763', 'Boeing 767-300'),\n",
       " ('319', 'Airbus A319-100'),\n",
       " ('733', 'Boeing 737-300'),\n",
       " ('SU9', 'Sukhoi Superjet-100'),\n",
       " ('321', 'Airbus A321-200')]"
      ]
     },
     "execution_count": 6,
     "metadata": {},
     "output_type": "execute_result"
    }
   ],
   "source": [
    "%%sql $CONNECT_DATA\n",
    "SELECT aircraft_code, model\n",
    "FROM Aircrafts\n",
    "WHERE aircraft_code IN (  \n",
    "    SELECT aircraft_code \n",
    "    FROM Flights\n",
    "    WHERE (arrival_airport <> 'YKS')\n",
    ");"
   ]
  },
  {
   "cell_type": "code",
   "execution_count": 7,
   "id": "36a96a6b-fe46-4d34-80f2-e4a423f3b58d",
   "metadata": {
    "tags": []
   },
   "outputs": [
    {
     "name": "stdout",
     "output_type": "stream",
     "text": [
      "10 rows affected.\n"
     ]
    },
    {
     "data": {
      "text/html": [
       "<table>\n",
       "    <thead>\n",
       "        <tr>\n",
       "            <th>airport_code</th>\n",
       "            <th>airport_name</th>\n",
       "            <th>city</th>\n",
       "            <th>coordinates</th>\n",
       "            <th>timezone</th>\n",
       "        </tr>\n",
       "    </thead>\n",
       "    <tbody>\n",
       "        <tr>\n",
       "            <td>YKS</td>\n",
       "            <td>Yakutsk Airport</td>\n",
       "            <td>Yakutsk</td>\n",
       "            <td>(129.77099609375,62.093299865722656)</td>\n",
       "            <td>Asia/Yakutsk</td>\n",
       "        </tr>\n",
       "        <tr>\n",
       "            <td>MJZ</td>\n",
       "            <td>Mirny Airport</td>\n",
       "            <td>Mirnyj</td>\n",
       "            <td>(114.03900146484375,62.534698486328125)</td>\n",
       "            <td>Asia/Yakutsk</td>\n",
       "        </tr>\n",
       "        <tr>\n",
       "            <td>KHV</td>\n",
       "            <td>Khabarovsk-Novy Airport</td>\n",
       "            <td>Khabarovsk</td>\n",
       "            <td>(135.18800354004,48.52799987793)</td>\n",
       "            <td>Asia/Vladivostok</td>\n",
       "        </tr>\n",
       "        <tr>\n",
       "            <td>PKC</td>\n",
       "            <td>Yelizovo Airport</td>\n",
       "            <td>Petropavlovsk</td>\n",
       "            <td>(158.45399475097656,53.16790008544922)</td>\n",
       "            <td>Asia/Kamchatka</td>\n",
       "        </tr>\n",
       "        <tr>\n",
       "            <td>UUS</td>\n",
       "            <td>Yuzhno-Sakhalinsk Airport</td>\n",
       "            <td>Yuzhno-Sakhalinsk</td>\n",
       "            <td>(142.71800231933594,46.88869857788086)</td>\n",
       "            <td>Asia/Sakhalin</td>\n",
       "        </tr>\n",
       "        <tr>\n",
       "            <td>VVO</td>\n",
       "            <td>Vladivostok International Airport</td>\n",
       "            <td>Vladivostok</td>\n",
       "            <td>(132.1479949951172,43.39899826049805)</td>\n",
       "            <td>Asia/Vladivostok</td>\n",
       "        </tr>\n",
       "        <tr>\n",
       "            <td>LED</td>\n",
       "            <td>Pulkovo Airport</td>\n",
       "            <td>St. Petersburg</td>\n",
       "            <td>(30.262500762939453,59.80030059814453)</td>\n",
       "            <td>Europe/Moscow</td>\n",
       "        </tr>\n",
       "        <tr>\n",
       "            <td>KGD</td>\n",
       "            <td>Khrabrovo Airport</td>\n",
       "            <td>Kaliningrad</td>\n",
       "            <td>(20.592599868774414,54.88999938964844)</td>\n",
       "            <td>Europe/Kaliningrad</td>\n",
       "        </tr>\n",
       "        <tr>\n",
       "            <td>KEJ</td>\n",
       "            <td>Kemerovo Airport</td>\n",
       "            <td>Kemorovo</td>\n",
       "            <td>(86.1072006225586,55.27009963989258)</td>\n",
       "            <td>Asia/Novokuznetsk</td>\n",
       "        </tr>\n",
       "        <tr>\n",
       "            <td>CEK</td>\n",
       "            <td>Chelyabinsk Balandino Airport</td>\n",
       "            <td>Chelyabinsk</td>\n",
       "            <td>(61.5033,55.305801)</td>\n",
       "            <td>Asia/Yekaterinburg</td>\n",
       "        </tr>\n",
       "    </tbody>\n",
       "</table>"
      ],
      "text/plain": [
       "[('YKS', 'Yakutsk Airport', 'Yakutsk', '(129.77099609375,62.093299865722656)', 'Asia/Yakutsk'),\n",
       " ('MJZ', 'Mirny Airport', 'Mirnyj', '(114.03900146484375,62.534698486328125)', 'Asia/Yakutsk'),\n",
       " ('KHV', 'Khabarovsk-Novy Airport', 'Khabarovsk', '(135.18800354004,48.52799987793)', 'Asia/Vladivostok'),\n",
       " ('PKC', 'Yelizovo Airport', 'Petropavlovsk', '(158.45399475097656,53.16790008544922)', 'Asia/Kamchatka'),\n",
       " ('UUS', 'Yuzhno-Sakhalinsk Airport', 'Yuzhno-Sakhalinsk', '(142.71800231933594,46.88869857788086)', 'Asia/Sakhalin'),\n",
       " ('VVO', 'Vladivostok International Airport', 'Vladivostok', '(132.1479949951172,43.39899826049805)', 'Asia/Vladivostok'),\n",
       " ('LED', 'Pulkovo Airport', 'St. Petersburg', '(30.262500762939453,59.80030059814453)', 'Europe/Moscow'),\n",
       " ('KGD', 'Khrabrovo Airport', 'Kaliningrad', '(20.592599868774414,54.88999938964844)', 'Europe/Kaliningrad'),\n",
       " ('KEJ', 'Kemerovo Airport', 'Kemorovo', '(86.1072006225586,55.27009963989258)', 'Asia/Novokuznetsk'),\n",
       " ('CEK', 'Chelyabinsk Balandino Airport', 'Chelyabinsk', '(61.5033,55.305801)', 'Asia/Yekaterinburg')]"
      ]
     },
     "execution_count": 7,
     "metadata": {},
     "output_type": "execute_result"
    }
   ],
   "source": [
    "%%sql $CONNECT_DATA\n",
    "SELECT *\n",
    "FROM Airports\n",
    "Limit (10)\n"
   ]
  },
  {
   "cell_type": "code",
   "execution_count": null,
   "id": "5a201216-e582-4dc1-ad45-99469daebb2d",
   "metadata": {
    "tags": []
   },
   "outputs": [],
   "source": []
  },
  {
   "cell_type": "code",
   "execution_count": null,
   "id": "239750b6-4405-4631-a744-81962594d194",
   "metadata": {},
   "outputs": [],
   "source": [
    "%%sql $CONNECT_DATA\n",
    "SELECT arrival_airport, departure_airport\n",
    "FROM Flights\n",
    "WHERE flight_no IN (  \n",
    "    SELECT flight_no \n",
    "    FROM Ticket_flights\n",
    "    WHERE ticket_no IN (  \n",
    "        SELECT ticket_no\n",
    "        FROM Tickets\n",
    "        WHERE (passenger_name = 'ELLA DMITRIEVA')\n",
    "    )\n",
    ");"
   ]
  },
  {
   "cell_type": "code",
   "execution_count": null,
   "id": "2b82acf3-1ee4-4334-a54b-c624a9384600",
   "metadata": {
    "tags": []
   },
   "outputs": [],
   "source": []
  }
 ],
 "metadata": {
  "kernelspec": {
   "display_name": "Python 3 (ipykernel)",
   "language": "python",
   "name": "python3"
  },
  "language_info": {
   "codemirror_mode": {
    "name": "ipython",
    "version": 3
   },
   "file_extension": ".py",
   "mimetype": "text/x-python",
   "name": "python",
   "nbconvert_exporter": "python",
   "pygments_lexer": "ipython3",
   "version": "3.10.9"
  }
 },
 "nbformat": 4,
 "nbformat_minor": 5
}
